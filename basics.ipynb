{
 "cells": [
  {
   "cell_type": "code",
   "execution_count": 31,
   "metadata": {},
   "outputs": [
    {
     "data": {
      "text/plain": [
       "4780"
      ]
     },
     "execution_count": 31,
     "metadata": {},
     "output_type": "execute_result"
    }
   ],
   "source": [
    "2390 + 2390"
   ]
  },
  {
   "cell_type": "code",
   "execution_count": 32,
   "metadata": {},
   "outputs": [
    {
     "data": {
      "text/plain": [
       "-2159"
      ]
     },
     "execution_count": 32,
     "metadata": {},
     "output_type": "execute_result"
    }
   ],
   "source": [
    "231 - 2390"
   ]
  },
  {
   "cell_type": "code",
   "execution_count": 33,
   "metadata": {},
   "outputs": [
    {
     "data": {
      "text/plain": [
       "552568"
      ]
     },
     "execution_count": 33,
     "metadata": {},
     "output_type": "execute_result"
    }
   ],
   "source": [
    "2312 * 239"
   ]
  },
  {
   "cell_type": "code",
   "execution_count": 34,
   "metadata": {},
   "outputs": [
    {
     "data": {
      "text/plain": [
       "3.3333333333333335"
      ]
     },
     "execution_count": 34,
     "metadata": {},
     "output_type": "execute_result"
    }
   ],
   "source": [
    "10 / 3"
   ]
  },
  {
   "cell_type": "code",
   "execution_count": 35,
   "metadata": {},
   "outputs": [
    {
     "data": {
      "text/plain": [
       "3"
      ]
     },
     "execution_count": 35,
     "metadata": {},
     "output_type": "execute_result"
    }
   ],
   "source": [
    "10 // 3 # floor division"
   ]
  },
  {
   "cell_type": "code",
   "execution_count": 36,
   "metadata": {},
   "outputs": [
    {
     "data": {
      "text/plain": [
       "1000"
      ]
     },
     "execution_count": 36,
     "metadata": {},
     "output_type": "execute_result"
    }
   ],
   "source": [
    "10 ** 3"
   ]
  },
  {
   "cell_type": "code",
   "execution_count": 37,
   "metadata": {},
   "outputs": [
    {
     "data": {
      "text/plain": [
       "-599"
      ]
     },
     "execution_count": 37,
     "metadata": {},
     "output_type": "execute_result"
    }
   ],
   "source": [
    "10 % 3 - 120 * 5"
   ]
  },
  {
   "cell_type": "code",
   "execution_count": 38,
   "metadata": {},
   "outputs": [],
   "source": [
    "name = \"Shikhar Srivastava\"\n",
    "age = 25\n",
    "can_vote = True"
   ]
  },
  {
   "cell_type": "code",
   "execution_count": 39,
   "metadata": {},
   "outputs": [],
   "source": [
    "a = 5\n",
    "a += 50\n",
    "a -= 10"
   ]
  },
  {
   "cell_type": "markdown",
   "metadata": {},
   "source": [
    "comparison operators"
   ]
  },
  {
   "cell_type": "code",
   "execution_count": 40,
   "metadata": {},
   "outputs": [
    {
     "name": "stdout",
     "output_type": "stream",
     "text": [
      "False\n",
      "True\n",
      "False\n",
      "True\n",
      "False\n",
      "True\n"
     ]
    }
   ],
   "source": [
    "a, b = 10, 31\n",
    "print(a > b)\n",
    "print(a < b)\n",
    "print(a == b)\n",
    "print(a != b)\n",
    "print(a >= b)\n",
    "print(a <= b)"
   ]
  },
  {
   "cell_type": "markdown",
   "metadata": {},
   "source": [
    "logical operators\n",
    "`and` `or` `not`"
   ]
  },
  {
   "cell_type": "code",
   "execution_count": 41,
   "metadata": {},
   "outputs": [
    {
     "name": "stdout",
     "output_type": "stream",
     "text": [
      "False\n",
      "True\n",
      "True\n",
      "False\n"
     ]
    }
   ],
   "source": [
    "x = 'apple'\n",
    "y = 'cherry'\n",
    "print(x == 'apple' and x == y)\n",
    "print(x == 'apple' and x != y)\n",
    "print(x == 'apple' or x == y)\n",
    "print(not x == 'apple')"
   ]
  },
  {
   "cell_type": "code",
   "execution_count": 42,
   "metadata": {},
   "outputs": [],
   "source": [
    "fruits = ['mango','apple','cherry','banana','orange','grapes']"
   ]
  },
  {
   "cell_type": "code",
   "execution_count": 43,
   "metadata": {},
   "outputs": [
    {
     "data": {
      "text/plain": [
       "True"
      ]
     },
     "execution_count": 43,
     "metadata": {},
     "output_type": "execute_result"
    }
   ],
   "source": [
    "'mango' in fruits # membership operator"
   ]
  },
  {
   "cell_type": "code",
   "execution_count": 44,
   "metadata": {},
   "outputs": [
    {
     "data": {
      "text/plain": [
       "False"
      ]
     },
     "execution_count": 44,
     "metadata": {},
     "output_type": "execute_result"
    }
   ],
   "source": [
    "'avacado' in fruits"
   ]
  },
  {
   "cell_type": "markdown",
   "metadata": {},
   "source": [
    "input and output\n",
    "\n",
    "syntax\n",
    "\n",
    "`var = input('prompt')`\n",
    "\n",
    "`num = int(input('prompt'))`"
   ]
  },
  {
   "cell_type": "code",
   "execution_count": 45,
   "metadata": {},
   "outputs": [
    {
     "name": "stdout",
     "output_type": "stream",
     "text": [
      "principal 1\n",
      "rate 12.0\n",
      "time 12\n",
      "simple interest 1.44\n",
      "amount 2.44\n"
     ]
    }
   ],
   "source": [
    "p = int(input('Principal: '))\n",
    "r = float(input('Rate: '))\n",
    "t = int(input('Time: '))\n",
    "si = p * r * t / 100\n",
    "print('principal', p)\n",
    "print('rate', r)\n",
    "print('time', t)\n",
    "print('simple interest', si)\n",
    "print('amount', si + p)"
   ]
  },
  {
   "cell_type": "code",
   "execution_count": 46,
   "metadata": {},
   "outputs": [
    {
     "name": "stdout",
     "output_type": "stream",
     "text": [
      "Your favourite city is Lucknow\n"
     ]
    }
   ],
   "source": [
    "fav_city = input('Favourite city: ')\n",
    "print('Your favourite city is', fav_city)"
   ]
  },
  {
   "cell_type": "code",
   "execution_count": 47,
   "metadata": {},
   "outputs": [
    {
     "name": "stdout",
     "output_type": "stream",
     "text": [
      "Shikhar lucknow\n",
      "Shikhar\n",
      "lucknow\n",
      "Shikhar\n",
      "lucknow\n",
      "Shikhar, lucknow\n",
      "Shikhar lives in lucknow\n"
     ]
    }
   ],
   "source": [
    "name = \"Shikhar\"\n",
    "city = \"lucknow\"\n",
    "print(name, city)\n",
    "print(name)\n",
    "print(city)\n",
    "print(name, city, sep='\\n')\n",
    "print(name, city, sep=', ')\n",
    "print(f'{name} lives in {city}')\n",
    "\n"
   ]
  },
  {
   "cell_type": "code",
   "execution_count": 48,
   "metadata": {},
   "outputs": [
    {
     "name": "stdout",
     "output_type": "stream",
     "text": [
      "You purchased items for more than $200\n",
      "you get a 10% discount\n",
      "total 360.0\n"
     ]
    }
   ],
   "source": [
    "qty = 2\n",
    "price = 200.00\n",
    "total = qty * price\n",
    "if total > 200:\n",
    "    print('You purchased items for more than $200')\n",
    "    print('you get a 10% discount')\n",
    "    total = total * 0.9 #90% of the total\n",
    "    print('total', total)\n"
   ]
  },
  {
   "cell_type": "code",
   "execution_count": 49,
   "metadata": {},
   "outputs": [
    {
     "name": "stdout",
     "output_type": "stream",
     "text": [
      "even num 12\n"
     ]
    }
   ],
   "source": [
    "number = int(input('enter a number:'))\n",
    "if number % 2 == 0:\n",
    "    print(f'even num {number}')\n",
    "else:\n",
    "    print(f'odd num {number}')"
   ]
  },
  {
   "cell_type": "code",
   "execution_count": 51,
   "metadata": {},
   "outputs": [
    {
     "name": "stdout",
     "output_type": "stream",
     "text": [
      "percentage 83.33333333333334%\n",
      "Grade A\n"
     ]
    }
   ],
   "source": [
    "marks = int(input('enter total marks you got: '))\n",
    "total = 600\n",
    "pct = marks / total * 100\n",
    "print(f'percentage {pct}%')\n",
    "if pct >= 90:\n",
    "    print('Grade A+')\n",
    "elif pct >= 80:\n",
    "    print('Grade A')\n",
    "elif pct >= 70:\n",
    "    print('Grade B')\n",
    "elif pct >= 60:\n",
    "    print('Grade C')\n",
    "elif pct >= 50:\n",
    "    print('Grade D')\n",
    "else:\n",
    "    print('')"
   ]
  },
  {
   "cell_type": "code",
   "execution_count": 1,
   "metadata": {},
   "outputs": [
    {
     "name": "stdout",
     "output_type": "stream",
     "text": [
      "What is the capital of uttrakhand\n",
      "A, Dehradun\n",
      "B, Lucknow\n",
      "C, Delhi\n",
      "D, Chandigarh\n",
      "Correct, aap jeet gaye 7cr\n"
     ]
    }
   ],
   "source": [
    "print('What is the capital of uttrakhand')\n",
    "print('A, Dehradun')\n",
    "print('B, Lucknow')\n",
    "print('C, Delhi')\n",
    "print('D, Chandigarh')\n",
    "ans = input('Enter option number')\n",
    "match ans:\n",
    "    case 'A':\n",
    "        print('Correct, aap jeet gaye 7cr')\n",
    "    case 'B':\n",
    "        print('Wrong answer, Up ka nahi')\n",
    "    case 'C':\n",
    "        print('Wrong answer, India me raho')\n",
    "    case 'D':\n",
    "        print('Wrong')\n",
    "    case _:\n",
    "        print('Invalid')\n",
    "\n"
   ]
  }
 ],
 "metadata": {
  "kernelspec": {
   "display_name": "base",
   "language": "python",
   "name": "python3"
  },
  "language_info": {
   "codemirror_mode": {
    "name": "ipython",
    "version": 3
   },
   "file_extension": ".py",
   "mimetype": "text/x-python",
   "name": "python",
   "nbconvert_exporter": "python",
   "pygments_lexer": "ipython3",
   "version": "3.11.5"
  }
 },
 "nbformat": 4,
 "nbformat_minor": 2
}
