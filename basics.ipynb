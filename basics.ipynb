{
 "cells": [
  {
   "cell_type": "code",
   "execution_count": 31,
   "metadata": {},
   "outputs": [
    {
     "data": {
      "text/plain": [
       "4780"
      ]
     },
     "execution_count": 31,
     "metadata": {},
     "output_type": "execute_result"
    }
   ],
   "source": [
    "2390 + 2390"
   ]
  },
  {
   "cell_type": "code",
   "execution_count": 32,
   "metadata": {},
   "outputs": [
    {
     "data": {
      "text/plain": [
       "-2159"
      ]
     },
     "execution_count": 32,
     "metadata": {},
     "output_type": "execute_result"
    }
   ],
   "source": [
    "231 - 2390"
   ]
  },
  {
   "cell_type": "code",
   "execution_count": 33,
   "metadata": {},
   "outputs": [
    {
     "data": {
      "text/plain": [
       "552568"
      ]
     },
     "execution_count": 33,
     "metadata": {},
     "output_type": "execute_result"
    }
   ],
   "source": [
    "2312 * 239"
   ]
  },
  {
   "cell_type": "code",
   "execution_count": 34,
   "metadata": {},
   "outputs": [
    {
     "data": {
      "text/plain": [
       "3.3333333333333335"
      ]
     },
     "execution_count": 34,
     "metadata": {},
     "output_type": "execute_result"
    }
   ],
   "source": [
    "10 / 3"
   ]
  },
  {
   "cell_type": "code",
   "execution_count": 35,
   "metadata": {},
   "outputs": [
    {
     "data": {
      "text/plain": [
       "3"
      ]
     },
     "execution_count": 35,
     "metadata": {},
     "output_type": "execute_result"
    }
   ],
   "source": [
    "10 // 3 # floor division"
   ]
  },
  {
   "cell_type": "code",
   "execution_count": 36,
   "metadata": {},
   "outputs": [
    {
     "data": {
      "text/plain": [
       "1000"
      ]
     },
     "execution_count": 36,
     "metadata": {},
     "output_type": "execute_result"
    }
   ],
   "source": [
    "10 ** 3"
   ]
  },
  {
   "cell_type": "code",
   "execution_count": 37,
   "metadata": {},
   "outputs": [
    {
     "data": {
      "text/plain": [
       "-599"
      ]
     },
     "execution_count": 37,
     "metadata": {},
     "output_type": "execute_result"
    }
   ],
   "source": [
    "10 % 3 - 120 * 5"
   ]
  },
  {
   "cell_type": "code",
   "execution_count": 38,
   "metadata": {},
   "outputs": [],
   "source": [
    "name = \"Shikhar Srivastava\"\n",
    "age = 25\n",
    "can_vote = True"
   ]
  },
  {
   "cell_type": "code",
   "execution_count": 39,
   "metadata": {},
   "outputs": [],
   "source": [
    "a = 5\n",
    "a += 50\n",
    "a -= 10"
   ]
  },
  {
   "cell_type": "markdown",
   "metadata": {},
   "source": [
    "comparison operators"
   ]
  },
  {
   "cell_type": "code",
   "execution_count": 40,
   "metadata": {},
   "outputs": [
    {
     "name": "stdout",
     "output_type": "stream",
     "text": [
      "False\n",
      "True\n",
      "False\n",
      "True\n",
      "False\n",
      "True\n"
     ]
    }
   ],
   "source": [
    "a, b = 10, 31\n",
    "print(a > b)\n",
    "print(a < b)\n",
    "print(a == b)\n",
    "print(a != b)\n",
    "print(a >= b)\n",
    "print(a <= b)"
   ]
  },
  {
   "cell_type": "markdown",
   "metadata": {},
   "source": [
    "logical operators\n",
    "`and` `or` `not`"
   ]
  },
  {
   "cell_type": "code",
   "execution_count": 41,
   "metadata": {},
   "outputs": [
    {
     "name": "stdout",
     "output_type": "stream",
     "text": [
      "False\n",
      "True\n",
      "True\n",
      "False\n"
     ]
    }
   ],
   "source": [
    "x = 'apple'\n",
    "y = 'cherry'\n",
    "print(x == 'apple' and x == y)\n",
    "print(x == 'apple' and x != y)\n",
    "print(x == 'apple' or x == y)\n",
    "print(not x == 'apple')"
   ]
  },
  {
   "cell_type": "code",
   "execution_count": 42,
   "metadata": {},
   "outputs": [],
   "source": [
    "fruits = ['mango','apple','cherry','banana','orange','grapes']"
   ]
  },
  {
   "cell_type": "code",
   "execution_count": 43,
   "metadata": {},
   "outputs": [
    {
     "data": {
      "text/plain": [
       "True"
      ]
     },
     "execution_count": 43,
     "metadata": {},
     "output_type": "execute_result"
    }
   ],
   "source": [
    "'mango' in fruits # membership operator"
   ]
  },
  {
   "cell_type": "code",
   "execution_count": 44,
   "metadata": {},
   "outputs": [
    {
     "data": {
      "text/plain": [
       "False"
      ]
     },
     "execution_count": 44,
     "metadata": {},
     "output_type": "execute_result"
    }
   ],
   "source": [
    "'avacado' in fruits"
   ]
  },
  {
   "cell_type": "markdown",
   "metadata": {},
   "source": [
    "input and output\n",
    "\n",
    "syntax\n",
    "\n",
    "`var = input('prompt')`\n",
    "\n",
    "`num = int(input('prompt'))`"
   ]
  },
  {
   "cell_type": "code",
   "execution_count": 45,
   "metadata": {},
   "outputs": [
    {
     "name": "stdout",
     "output_type": "stream",
     "text": [
      "principal 1\n",
      "rate 12.0\n",
      "time 12\n",
      "simple interest 1.44\n",
      "amount 2.44\n"
     ]
    }
   ],
   "source": [
    "p = int(input('Principal: '))\n",
    "r = float(input('Rate: '))\n",
    "t = int(input('Time: '))\n",
    "si = p * r * t / 100\n",
    "print('principal', p)\n",
    "print('rate', r)\n",
    "print('time', t)\n",
    "print('simple interest', si)\n",
    "print('amount', si + p)"
   ]
  },
  {
   "cell_type": "code",
   "execution_count": 46,
   "metadata": {},
   "outputs": [
    {
     "name": "stdout",
     "output_type": "stream",
     "text": [
      "Your favourite city is Lucknow\n"
     ]
    }
   ],
   "source": [
    "fav_city = input('Favourite city: ')\n",
    "print('Your favourite city is', fav_city)"
   ]
  },
  {
   "cell_type": "code",
<<<<<<< HEAD
   "execution_count": 47,
   "metadata": {},
=======
   "execution_count": 4,
   "metadata": {
    "vscode": {
     "languageId": "powershell"
    }
   },
   "outputs": [
    {
     "data": {
      "text/plain": [
       "False"
      ]
     },
     "execution_count": 4,
     "metadata": {},
     "output_type": "execute_result"
    }
   ],
   "source": [
    "python = ['cool']\n",
    "x = python in python\n",
    "x"
   ]
  },
  {
   "cell_type": "markdown",
   "metadata": {},
   "source": [
    "print() function\n",
    "```\n",
    "print(data)\n",
    "print(data1, data2, data3)\n",
    "print(f'message {data}')\n",
    "```"
   ]
  },
  {
   "cell_type": "code",
   "execution_count": 21,
   "metadata": {
    "vscode": {
     "languageId": "powershell"
    }
   },
>>>>>>> c9261e38d1784257f07a26cd7d358aa3d3873dc2
   "outputs": [
    {
     "name": "stdout",
     "output_type": "stream",
     "text": [
<<<<<<< HEAD
      "Shikhar lucknow\n",
      "Shikhar\n",
      "lucknow\n",
      "Shikhar\n",
      "lucknow\n",
      "Shikhar, lucknow\n",
      "Shikhar lives in lucknow\n"
=======
      "Alexis Seattle\n",
      "Alexis\n",
      "Seattle\n",
      "Alexis\n",
      "Seattle\n",
      "Alexis, Seattle\n",
      "Alexis lives in Seattle\n"
>>>>>>> c9261e38d1784257f07a26cd7d358aa3d3873dc2
     ]
    }
   ],
   "source": [
<<<<<<< HEAD
    "name = \"Shikhar\"\n",
    "city = \"lucknow\"\n",
=======
    "name = \"Alexis\"\n",
    "city = \"Seattle\"\n",
>>>>>>> c9261e38d1784257f07a26cd7d358aa3d3873dc2
    "print(name, city)\n",
    "print(name)\n",
    "print(city)\n",
    "print(name, city, sep='\\n')\n",
    "print(name, city, sep=', ')\n",
<<<<<<< HEAD
    "print(f'{name} lives in {city}')\n",
    "\n"
=======
    "print(f'{name} lives in {city}') # formatted string"
   ]
  },
  {
   "cell_type": "markdown",
   "metadata": {},
   "source": [
    "conditions\n",
    "- `if`\n",
    "- `if else`\n",
    "- `if elif else`\n",
    "- `match case`"
>>>>>>> c9261e38d1784257f07a26cd7d358aa3d3873dc2
   ]
  },
  {
   "cell_type": "code",
<<<<<<< HEAD
   "execution_count": 48,
=======
   "execution_count": 26,
>>>>>>> c9261e38d1784257f07a26cd7d358aa3d3873dc2
   "metadata": {},
   "outputs": [
    {
     "name": "stdout",
     "output_type": "stream",
     "text": [
      "You purchased items for more than $200\n",
      "you get a 10% discount\n",
      "total 360.0\n"
     ]
    }
   ],
   "source": [
    "qty = 2\n",
    "price = 200.00\n",
<<<<<<< HEAD
    "total = qty * price\n",
    "if total > 200:\n",
    "    print('You purchased items for more than $200')\n",
    "    print('you get a 10% discount')\n",
    "    total = total * 0.9 #90% of the total\n",
    "    print('total', total)\n"
=======
    "total  = qty * price\n",
    "if total > 200:\n",
    "    print('You purchased items for more than $200')\n",
    "    print('you get a 10% discount')\n",
    "    total = total * 0.9 # 90% of the total\n",
    "print('total', total)\n"
>>>>>>> c9261e38d1784257f07a26cd7d358aa3d3873dc2
   ]
  },
  {
   "cell_type": "code",
<<<<<<< HEAD
   "execution_count": 49,
   "metadata": {},
   "outputs": [
    {
     "name": "stdout",
     "output_type": "stream",
     "text": [
      "even num 12\n"
     ]
    }
   ],
   "source": [
    "number = int(input('enter a number:'))\n",
=======
   "execution_count": null,
   "metadata": {},
   "outputs": [],
   "source": [
    "number = int(input('enter a numbers:'))\n",
>>>>>>> c9261e38d1784257f07a26cd7d358aa3d3873dc2
    "if number % 2 == 0:\n",
    "    print(f'even num {number}')\n",
    "else:\n",
    "    print(f'odd num {number}')"
   ]
  },
  {
   "cell_type": "code",
<<<<<<< HEAD
   "execution_count": 51,
=======
   "execution_count": 31,
>>>>>>> c9261e38d1784257f07a26cd7d358aa3d3873dc2
   "metadata": {},
   "outputs": [
    {
     "name": "stdout",
     "output_type": "stream",
     "text": [
<<<<<<< HEAD
      "percentage 83.33333333333334%\n",
      "Grade A\n"
=======
      "percentage 35.0%\n",
      "😭😭😭😭\n"
>>>>>>> c9261e38d1784257f07a26cd7d358aa3d3873dc2
     ]
    }
   ],
   "source": [
    "marks = int(input('enter total marks you got: '))\n",
    "total = 600\n",
    "pct = marks / total * 100\n",
    "print(f'percentage {pct}%')\n",
    "if pct >= 90:\n",
<<<<<<< HEAD
    "    print('Grade A+')\n",
=======
    "    print('🎉Grade A+')\n",
>>>>>>> c9261e38d1784257f07a26cd7d358aa3d3873dc2
    "elif pct >= 80:\n",
    "    print('Grade A')\n",
    "elif pct >= 70:\n",
    "    print('Grade B')\n",
    "elif pct >= 60:\n",
    "    print('Grade C')\n",
    "elif pct >= 50:\n",
<<<<<<< HEAD
    "    print('Grade D')\n",
    "else:\n",
    "    print('')"
=======
    "    print('😖Grade D')\n",
    "else:\n",
    "    print('😭😭😭😭')"
>>>>>>> c9261e38d1784257f07a26cd7d358aa3d3873dc2
   ]
  },
  {
   "cell_type": "code",
<<<<<<< HEAD
   "execution_count": 1,
=======
   "execution_count": 2,
>>>>>>> c9261e38d1784257f07a26cd7d358aa3d3873dc2
   "metadata": {},
   "outputs": [
    {
     "name": "stdout",
     "output_type": "stream",
     "text": [
<<<<<<< HEAD
      "What is the capital of uttrakhand\n",
      "A, Dehradun\n",
      "B, Lucknow\n",
      "C, Delhi\n",
      "D, Chandigarh\n",
      "Correct, aap jeet gaye 7cr\n"
=======
      "what is the captial of uttrakhand?\n",
      "A. Dehradun\n",
      "B. Lucknow\n",
      "C. Delhi\n",
      "D. Chandigarh\n",
      "Wrong answer\n"
>>>>>>> c9261e38d1784257f07a26cd7d358aa3d3873dc2
     ]
    }
   ],
   "source": [
<<<<<<< HEAD
    "print('What is the capital of uttrakhand')\n",
    "print('A, Dehradun')\n",
    "print('B, Lucknow')\n",
    "print('C, Delhi')\n",
    "print('D, Chandigarh')\n",
    "ans = input('Enter option number')\n",
    "match ans:\n",
    "    case 'A':\n",
    "        print('Correct, aap jeet gaye 7cr')\n",
    "    case 'B':\n",
    "        print('Wrong answer, Up ka nahi')\n",
    "    case 'C':\n",
    "        print('Wrong answer, India me raho')\n",
    "    case 'D':\n",
    "        print('Wrong')\n",
    "    case _:\n",
    "        print('Invalid')\n",
    "\n"
   ]
=======
    "print('what is the captial of uttrakhand?')\n",
    "print('A. Dehradun')\n",
    "print('B. Lucknow')\n",
    "print('C. Delhi')\n",
    "print('D. Chandigarh')\n",
    "ans = input('Enter option number:')\n",
    "match ans:\n",
    "    case 'A':\n",
    "        print('Correct, aap jeet gaye 7Cr🎉🎉🎉')\n",
    "    case 'B':\n",
    "        print('Wrong answer, UP ka nahi puchha tha')\n",
    "    case 'C'|'D':\n",
    "        print('Wrong answer')\n",
    "    case _:\n",
    "        print('Invalid option')"
   ]
  },
  {
   "cell_type": "code",
   "execution_count": null,
   "metadata": {},
   "outputs": [],
   "source": []
>>>>>>> c9261e38d1784257f07a26cd7d358aa3d3873dc2
  }
 ],
 "metadata": {
  "kernelspec": {
   "display_name": "base",
   "language": "python",
   "name": "python3"
  },
  "language_info": {
   "codemirror_mode": {
    "name": "ipython",
    "version": 3
   },
   "file_extension": ".py",
   "mimetype": "text/x-python",
   "name": "python",
   "nbconvert_exporter": "python",
   "pygments_lexer": "ipython3",
   "version": "3.11.5"
  }
 },
 "nbformat": 4,
 "nbformat_minor": 2
}
