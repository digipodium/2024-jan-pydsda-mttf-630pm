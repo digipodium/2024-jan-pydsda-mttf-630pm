{
 "cells": [
  {
   "cell_type": "code",
   "execution_count": null,
   "metadata": {},
   "outputs": [],
   "source": [
    "import numpy as np\n",
    "import plotly.express as px"
   ]
  },
  {
   "cell_type": "code",
   "execution_count": null,
   "metadata": {},
   "outputs": [],
   "source": [
    "x = np.arange(10)\n",
    "y = np.random.randint(1,100, 10)\n",
    "print(x)\n",
    "print(y)\n",
    "px.area(x=x,\n",
    "        y=y, \n",
    "        title=\"LIne Graph\",\n",
    "        labels={'x':'X axis','y':'Y axis'},\n",
    ")"
   ]
  },
  {
   "cell_type": "code",
   "execution_count": null,
   "metadata": {},
   "outputs": [],
   "source": [
    "a = np.random.uniform(0, 1, 100)\n",
    "b = np.random.randn(100)\n",
    "c = np.random.uniform(0, 1, 100)\n",
    "print(a.shape, b.shape, c.shape)\n",
    "px.scatter_3d(\n",
    "    x = a, \n",
    "    y = b,\n",
    "    z = c,\n",
    "    title=\"3D Graph\"\n",
    ")"
   ]
  },
  {
   "cell_type": "code",
   "execution_count": null,
   "metadata": {},
   "outputs": [],
   "source": []
  }
 ],
 "metadata": {
  "kernelspec": {
   "display_name": "base",
   "language": "python",
   "name": "python3"
  },
  "language_info": {
   "codemirror_mode": {
    "name": "ipython",
    "version": 3
   },
   "file_extension": ".py",
   "mimetype": "text/x-python",
   "name": "python",
   "nbconvert_exporter": "python",
   "pygments_lexer": "ipython3",
   "version": "3.11.7"
  }
 },
 "nbformat": 4,
 "nbformat_minor": 2
}
