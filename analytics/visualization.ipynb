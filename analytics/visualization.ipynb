{
 "cells": [
  {
   "cell_type": "code",
   "execution_count": null,
   "metadata": {},
   "outputs": [],
   "source": [
    "import numpy as np\n",
    "import plotly.express as px"
   ]
  },
  {
   "cell_type": "code",
   "execution_count": null,
   "metadata": {},
   "outputs": [],
   "source": [
    "x = np.arange(10)\n",
    "y = np.random.randint(1,100, 10)\n",
    "print(x)\n",
    "print(y)\n",
    "px.area(x=x,\n",
    "        y=y, \n",
    "        title=\"LIne Graph\",\n",
    "        labels={'x':'X axis','y':'Y axis'},\n",
    ")"
   ]
  },
  {
   "cell_type": "code",
   "execution_count": null,
   "metadata": {},
   "outputs": [],
   "source": [
    "a = np.random.uniform(0, 1, 100)\n",
    "b = np.random.randn(100)\n",
    "c = np.random.uniform(0, 1, 100)\n",
    "print(a.shape, b.shape, c.shape)\n",
    "px.scatter_3d(\n",
    "    x = a, \n",
    "    y = b,\n",
    "    z = c,\n",
    "    title=\"3D Graph\"\n",
    ")"
   ]
  },
  {
   "cell_type": "code",
   "execution_count": null,
   "metadata": {},
   "outputs": [],
   "source": [
    "iris = px.data.iris()\n",
    "iris"
   ]
  },
  {
   "cell_type": "markdown",
   "metadata": {},
   "source": [
    "# visualization graphs \n",
    "- Trend visualization\n",
    "    - Line plot\n",
    "    - Bar plot\n",
    "    - Area plot\n",
    "- distribution visualization\n",
    "    - Histogram\n",
    "    - Box plot\n",
    "    - Density plot\n",
    "    - Violin plot\n",
    "- Comparison visualization\n",
    "    - Pie chart\n",
    "    - Donut chart\n",
    "    - Stacked bar chart\n",
    "    - Grouped bar chart\n",
    "- Relationship visualization\n",
    "    - Scatter plot\n",
    "    - Pair plot\n",
    "    - Heat map"
   ]
  },
  {
   "cell_type": "code",
   "execution_count": null,
   "metadata": {},
   "outputs": [],
   "source": [
    "iris.columns.tolist()"
   ]
  },
  {
   "cell_type": "code",
   "execution_count": null,
   "metadata": {},
   "outputs": [],
   "source": [
    "px.histogram(data_frame=iris, x='sepal_width')"
   ]
  },
  {
   "cell_type": "code",
   "execution_count": null,
   "metadata": {},
   "outputs": [],
   "source": [
    "px.histogram(data_frame=iris, x=['sepal_width','petal_width'], barmode='overlay')"
   ]
  },
  {
   "cell_type": "code",
   "execution_count": null,
   "metadata": {},
   "outputs": [],
   "source": [
    "px.box(data_frame=iris, y='sepal_width', x='species', color='species')"
   ]
  },
  {
   "cell_type": "code",
   "execution_count": null,
   "metadata": {},
   "outputs": [],
   "source": [
    "px.violin(data_frame=iris, y='sepal_width', x='species', color='species')"
   ]
  },
  {
   "cell_type": "code",
   "execution_count": null,
   "metadata": {},
   "outputs": [],
   "source": [
    "px.scatter(data_frame=iris, x='sepal_width', y='sepal_length', color='species')"
   ]
  },
  {
   "cell_type": "code",
   "execution_count": null,
   "metadata": {},
   "outputs": [],
   "source": [
    "px.scatter(data_frame=iris, x='petal_width', y='petal_length', color='species')"
   ]
  },
  {
   "cell_type": "code",
   "execution_count": null,
   "metadata": {},
   "outputs": [],
   "source": [
    "stocks = px.data.stocks()\n",
    "stocks"
   ]
  },
  {
   "cell_type": "code",
   "execution_count": null,
   "metadata": {},
   "outputs": [],
   "source": [
    "stocks.columns.tolist()"
   ]
  },
  {
   "cell_type": "code",
   "execution_count": null,
   "metadata": {},
   "outputs": [],
   "source": [
    "px.line(data_frame=stocks, x='date', y=['GOOG','AAPL'])"
   ]
  },
  {
   "cell_type": "code",
   "execution_count": null,
   "metadata": {},
   "outputs": [],
   "source": [
    "px.area(data_frame=stocks, x='date', y=['GOOG','AAPL','AMZN'])"
   ]
  },
  {
   "cell_type": "code",
   "execution_count": null,
   "metadata": {},
   "outputs": [],
   "source": [
    "gapminder = px.data.gapminder()\n",
    "gapminder"
   ]
  },
  {
   "cell_type": "code",
   "execution_count": null,
   "metadata": {},
   "outputs": [],
   "source": [
    "px.pie(data_frame=gapminder,\n",
    "       names='continent', \n",
    "       values='pop', \n",
    "       title='Population by Continent')"
   ]
  },
  {
   "cell_type": "code",
   "execution_count": null,
   "metadata": {},
   "outputs": [],
   "source": [
    "tips = px.data.tips()\n",
    "tips"
   ]
  },
  {
   "cell_type": "code",
   "execution_count": null,
   "metadata": {},
   "outputs": [],
   "source": [
    "px.scatter(data_frame=tips, x='total_bill', y='tip', color='sex', width=600)"
   ]
  },
  {
   "cell_type": "code",
   "execution_count": null,
   "metadata": {},
   "outputs": [],
   "source": [
    "px.scatter(data_frame=tips, x='total_bill',\n",
    "            y='tip', \n",
    "            color = 'sex', facet_col='time', facet_row='smoker')"
   ]
  },
  {
   "cell_type": "code",
   "execution_count": null,
   "metadata": {},
   "outputs": [],
   "source": [
    "from plotly.subplots import make_subplots\n",
    "# subplots\n",
    "fig = make_subplots(rows=2, cols=2)\n",
    "fig.add_scatter(x=tips['total_bill'], y=tips['tip'], mode='markers')\n",
    "fig.add_violin(x=tips['total_bill'],row=1, col=2)\n",
    "fig.add_box(x=tips['tip'], row=2, col=1)\n",
    "fig.add_box(x=tips['total_bill'], row=2, col=2)"
   ]
  },
  {
   "cell_type": "code",
   "execution_count": null,
   "metadata": {},
   "outputs": [],
   "source": [
    "px.sunburst(gapminder, path=['continent', 'country'], values='pop')"
   ]
  },
  {
   "cell_type": "code",
   "execution_count": null,
   "metadata": {},
   "outputs": [],
   "source": []
  }
 ],
 "metadata": {
  "kernelspec": {
   "display_name": "base",
   "language": "python",
   "name": "python3"
  },
  "language_info": {
   "codemirror_mode": {
    "name": "ipython",
    "version": 3
   },
   "file_extension": ".py",
   "mimetype": "text/x-python",
   "name": "python",
   "nbconvert_exporter": "python",
   "pygments_lexer": "ipython3",
   "version": "3.11.7"
  }
 },
 "nbformat": 4,
 "nbformat_minor": 2
}
