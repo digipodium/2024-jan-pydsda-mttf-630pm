{
 "cells": [
  {
   "cell_type": "code",
   "execution_count": null,
   "metadata": {},
   "outputs": [],
   "source": [
    "data =['The Way of Kings', 2009,\n",
    "       'Brandon Sanderson', 1000, \n",
    "       'fantasy novel', 10.0, 23094]\n",
    "print(data)"
   ]
  },
  {
   "cell_type": "markdown",
   "metadata": {},
   "source": [
    "dictionary\n",
    "- keys are always immutable and unique,\n",
    "- values are mutable and can be duplicated.\n",
    "- keys are case-sensitive.\n",
    "- dictionary is ordered"
   ]
  },
  {
   "cell_type": "code",
   "execution_count": null,
   "metadata": {},
   "outputs": [],
   "source": [
    "data = {\n",
    "    'title': 'The way of Kings',\n",
    "    'year': 2009,\n",
    "    'author': 'Brandon Sanderson',\n",
    "    'price': 1000,\n",
    "    'genre': 'fantasy novel',\n",
    "    'rating': 10.0,\n",
    "    'votes': 23094\n",
    "}\n",
    "print(data)"
   ]
  },
  {
   "cell_type": "code",
   "execution_count": null,
   "metadata": {},
   "outputs": [],
   "source": [
    "print(data['title'])\n",
    "print(data['author'])"
   ]
  },
  {
   "cell_type": "code",
   "execution_count": null,
   "metadata": {},
   "outputs": [],
   "source": [
    "# print(data['pages']) # KeyError: 'pages'"
   ]
  },
  {
   "cell_type": "code",
   "execution_count": null,
   "metadata": {},
   "outputs": [],
   "source": [
    "# error free way\n",
    "print(data.get('pages'))\n",
    "print(data.get('price'))"
   ]
  },
  {
   "cell_type": "code",
   "execution_count": null,
   "metadata": {},
   "outputs": [],
   "source": [
    "data.keys()"
   ]
  },
  {
   "cell_type": "code",
   "execution_count": null,
   "metadata": {},
   "outputs": [],
   "source": [
    "data.values()"
   ]
  },
  {
   "cell_type": "code",
   "execution_count": null,
   "metadata": {},
   "outputs": [],
   "source": [
    "data.items()"
   ]
  },
  {
   "cell_type": "code",
   "execution_count": 12,
   "metadata": {},
   "outputs": [
    {
     "name": "stdout",
     "output_type": "stream",
     "text": [
      "{'name': 'Top Gun', 'Actor': 'Tom Cruise', 'year': '2390', 'rating': '5', 'director': 'abcd'}\n"
     ]
    }
   ],
   "source": [
    "movie = {} # empty dictionary\n",
    "for i in range(5):\n",
    "    key = input('Enter the key: ')\n",
    "    value = input('Enter the value: ')\n",
    "    movie[key] = value # adding key-value pair to the dictionary\n",
    "print(movie)"
   ]
  },
  {
   "cell_type": "code",
   "execution_count": null,
   "metadata": {},
   "outputs": [],
   "source": []
  }
 ],
 "metadata": {
  "kernelspec": {
   "display_name": "base",
   "language": "python",
   "name": "python3"
  },
  "language_info": {
   "codemirror_mode": {
    "name": "ipython",
    "version": 3
   },
   "file_extension": ".py",
   "mimetype": "text/x-python",
   "name": "python",
   "nbconvert_exporter": "python",
   "pygments_lexer": "ipython3",
   "version": "3.11.7"
  }
 },
 "nbformat": 4,
 "nbformat_minor": 2
}
