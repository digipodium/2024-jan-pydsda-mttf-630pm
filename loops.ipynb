{
 "cells": [
  {
   "cell_type": "code",
   "execution_count": 1,
   "metadata": {},
   "outputs": [
    {
     "name": "stdout",
     "output_type": "stream",
     "text": [
      "1\n",
      "2\n",
      "3\n",
      "4\n",
      "5\n",
      "6\n",
      "7\n",
      "8\n",
      "9\n"
     ]
    }
   ],
   "source": [
    "for i in range(1, 10):\n",
    "    print(i)"
   ]
  },
  {
   "cell_type": "code",
   "execution_count": 2,
   "metadata": {},
   "outputs": [
    {
     "name": "stdout",
     "output_type": "stream",
     "text": [
      "5 x 1 = 5\n",
      "5 x 2 = 10\n",
      "5 x 3 = 15\n",
      "5 x 4 = 20\n",
      "5 x 5 = 25\n",
      "5 x 6 = 30\n",
      "5 x 7 = 35\n",
      "5 x 8 = 40\n",
      "5 x 9 = 45\n",
      "5 x 10 = 50\n"
     ]
    }
   ],
   "source": [
    "n = int(input(\"Enter a number: \"))\n",
    "i = 1\n",
    "while i <= 10:\n",
    "    print(f'{n} x {i} = {n*i}')\n",
    "    i += 1"
   ]
  },
  {
   "cell_type": "code",
   "execution_count": 3,
   "metadata": {},
   "outputs": [
    {
     "name": "stdout",
     "output_type": "stream",
     "text": [
      "sum= 2550\n"
     ]
    }
   ],
   "source": [
    "total = 0\n",
    "for i in range(1,101):\n",
    "    if i%2 == 0:\n",
    "        total += i\n",
    "print(\"sum=\", total)"
   ]
  },
  {
   "cell_type": "code",
   "execution_count": 4,
   "metadata": {},
   "outputs": [
    {
     "data": {
      "text/plain": [
       "2550"
      ]
     },
     "execution_count": 4,
     "metadata": {},
     "output_type": "execute_result"
    }
   ],
   "source": [
    "sum(range(0,101,2))"
   ]
  },
  {
   "cell_type": "code",
   "execution_count": 5,
   "metadata": {},
   "outputs": [
    {
     "name": "stdout",
     "output_type": "stream",
     "text": [
      "55%2 = 1\n",
      "55%3 = 1\n",
      "55%4 = 3\n",
      "55%5 = 0\n",
      "55 is not a prime number\n"
     ]
    }
   ],
   "source": [
    "n = int(input(\"Enter a number: \"))\n",
    "i = 2\n",
    "while i < n:\n",
    "    print(f'{n}%{i} = {n%i}')\n",
    "    if n%i == 0:\n",
    "        print(f'{n} is not a prime number')\n",
    "        break\n",
    "    i += 1\n",
    "else:\n",
    "    print(f'{n} is a prime number')"
   ]
  },
  {
   "cell_type": "code",
   "execution_count": 6,
   "metadata": {},
   "outputs": [
    {
     "name": "stdout",
     "output_type": "stream",
     "text": [
      "factorial of 100 is 93326215443944152681699238856266700490715968264381621468592963895217599993229915608941463976156518286253697920827223758251185210916864000000000000000000000000\n"
     ]
    }
   ],
   "source": [
    "num = 100\n",
    "fact = 1\n",
    "for i in range(num, 0, -1):\n",
    "    fact *= i\n",
    "print(f'factorial of {num} is {fact}')"
   ]
  },
  {
   "cell_type": "code",
   "execution_count": 7,
   "metadata": {},
   "outputs": [
    {
     "name": "stdout",
     "output_type": "stream",
     "text": [
      "max= 913\n"
     ]
    }
   ],
   "source": [
    "x = [2,13,913,51,12,22,531,32,53]\n",
    "m = x[0]\n",
    "for i in x:\n",
    "    if i > m:\n",
    "        m = i\n",
    "print('max=', m)"
   ]
  },
  {
   "cell_type": "code",
   "execution_count": 11,
   "metadata": {},
   "outputs": [
    {
     "name": "stdout",
     "output_type": "stream",
     "text": [
      "0 1 34 "
     ]
    }
   ],
   "source": [
    "num = 10\n",
    "n1, n2 = 0, 1\n",
    "if num == 1:\n",
    "\t            print(n1)\n",
    "else:\n",
    "\tprint(n1, n2, end=\" \")\n",
    "for i in range(2, num):\n",
    "  n3 = n1 + n2\n",
    "  n1 = n2\n",
    "  n2 = n3\n",
    "print(n3, end=\" \")"
   ]
  },
  {
   "cell_type": "code",
   "execution_count": 12,
   "metadata": {},
   "outputs": [
    {
     "name": "stdout",
     "output_type": "stream",
     "text": [
      "The original string  is :  Shikhar\n",
      "The reversed string using a while loop is :  rahkihS\n"
     ]
    }
   ],
   "source": [
    "str = \"Shikhar\"   \n",
    "print (\"The original string  is : \",str)   \n",
    "reverse_String = \"\"  \n",
    "count = len(str)   \n",
    "while count > 0:   \n",
    "    reverse_String += str[ count - 1 ]   \n",
    "    count = count - 1   \n",
    "print (\"The reversed string using a while loop is : \",reverse_String)"
   ]
  },
  {
   "cell_type": "code",
   "execution_count": 24,
   "metadata": {},
   "outputs": [
    {
     "name": "stdout",
     "output_type": "stream",
     "text": [
      "Uppercase Alphabets\n",
      "A B C D E F G H I J K L M N O P Q R S T U V W X Y Z \n"
     ]
    }
   ],
   "source": [
    "def uppercaseAlphabets():\n",
    "\n",
    "\tfor c in range(65, 91):\n",
    "\t\tprint(chr(c), end = \" \");\n",
    "\n",
    "\tprint(\"\");\n",
    "\n",
    "\n",
    "print(\"Uppercase Alphabets\");\n",
    "uppercaseAlphabets();\n",
    "\n",
    "\n"
   ]
  },
  {
   "cell_type": "code",
   "execution_count": 31,
   "metadata": {},
   "outputs": [
    {
     "name": "stdout",
     "output_type": "stream",
     "text": [
      "Reversed string :   RAHKIHS \n",
      "The string is not a palindrome.\n"
     ]
    }
   ],
   "source": [
    "string = input (\"Enter string:\") \n",
    " \n",
    "revstr = \" \" \n",
    " \n",
    "for i in string: \n",
    " revstr = i + revstr\n",
    "print(\"Reversed string :  \",revstr) \n",
    " \n",
    "if (string == revstr):\n",
    "  print(\"The string is a palindrome.\") \n",
    "else: \n",
    "  print(\"The string is not a palindrome.\")"
   ]
  },
  {
   "cell_type": "code",
   "execution_count": 36,
   "metadata": {},
   "outputs": [
    {
     "name": "stdout",
     "output_type": "stream",
     "text": [
      "Average of elements in the list 5.0\n"
     ]
    }
   ],
   "source": [
    "n=int(input(\"Enter the number of elements to be inserted: \"))\n",
    "a=[]\n",
    "for i in range(0,n):\n",
    "    elem=int(input(\"Enter element: \"))\n",
    "    a.append(elem)\n",
    "avg=sum(a)/n\n",
    "print(\"Average of elements in the list\",round(avg,2))"
   ]
  },
  {
   "cell_type": "code",
   "execution_count": 4,
   "metadata": {},
   "outputs": [
    {
     "name": "stdout",
     "output_type": "stream",
     "text": [
      "Smallest element present in given array5\n"
     ]
    }
   ],
   "source": [
    "arr = [20, 12, 52, 5, 96];     \n",
    "     \n",
    "min = arr[0];    \n",
    "         \n",
    "for i in range(0, len(arr)):       \n",
    "   if(arr[i] < min):    \n",
    "       min = arr[i];    \n",
    "     \n",
    "print(\"Smallest element present in given array\" + str(min))"
   ]
  },
  {
   "cell_type": "code",
   "execution_count": 25,
   "metadata": {},
   "outputs": [
    {
     "name": "stdout",
     "output_type": "stream",
     "text": [
      "Total runs scored in the game: 30\n"
     ]
    }
   ],
   "source": [
    "def total_runs_scored(num):\n",
    "    total_runs = 0\n",
    "    num_str = str(num)\n",
    "    for inning in num_str:\n",
    "        total_runs += int(inning)\n",
    "    return total_runs\n",
    "\n",
    "runs_in_each_inning = 67890\n",
    "print(f\"Total runs scored in the game: {total_runs_scored(runs_in_each_inning)}\")"
   ]
  },
  {
   "cell_type": "code",
   "execution_count": 27,
   "metadata": {},
   "outputs": [
    {
     "name": "stdout",
     "output_type": "stream",
     "text": [
      "Sum of digits of a number : 47\n"
     ]
    }
   ],
   "source": [
    "Shikhar_contact_Number = 7617816254\n",
    "total=0\n",
    "for i in str(Shikhar_contact_Number):\n",
    "    total=total+int(i)\n",
    "print(\"Sum of digits of a number :\",total)"
   ]
  },
  {
   "cell_type": "code",
   "execution_count": 29,
   "metadata": {},
   "outputs": [
    {
     "name": "stdout",
     "output_type": "stream",
     "text": [
      " (year) is not a leap year.\n"
     ]
    }
   ],
   "source": [
    "while True:\n",
    "       try:\n",
    "            year = int(input(\"Enter a year: \"))\n",
    "            if (year % 4 == 0 and year % 100 != 0) or (year % 400 == 0): \n",
    "                print(\"{year) is a leap year.\")\n",
    "            else:\n",
    "                print(f\" (year) is not a leap year.\")\n",
    "            break \n",
    "       except ValueError:\n",
    "            print(\"Invalid input. Please enter a valid year.\")"
   ]
  },
  {
   "cell_type": "code",
   "execution_count": 9,
   "metadata": {},
   "outputs": [
    {
     "name": "stdout",
     "output_type": "stream",
     "text": [
      "The Multiplication Table of:  2\n",
      "2 x 1 = 2\n",
      "2 x 2 = 4\n",
      "2 x 3 = 6\n",
      "2 x 4 = 8\n",
      "2 x 5 = 10\n",
      "2 x 6 = 12\n",
      "2 x 7 = 14\n",
      "2 x 8 = 16\n",
      "2 x 9 = 18\n",
      "2 x 10 = 20\n"
     ]
    }
   ],
   "source": [
    "number = int(input (\"Enter the number of which the user wants to print the multiplication table: \"))      \n",
    "# We are using \"for loop\" to iterate the multiplication 10 times       \n",
    "print (\"The Multiplication Table of: \", number)    \n",
    "for count in range(1, 11):      \n",
    "   print (number, 'x', count, '=', number * count)    \n"
   ]
  },
  {
   "cell_type": "code",
   "execution_count": 10,
   "metadata": {},
   "outputs": [
    {
     "name": "stdout",
     "output_type": "stream",
     "text": [
      "Factorial of 5 is:120\n"
     ]
    }
   ],
   "source": [
    "n = int(input(\"Enter n:\")) \n",
    "fact = 1 \n",
    "for i in range(2, n+1): \n",
    "    fact *= i \n",
    "print(\"Factorial of {} is:{}\".format(n, fact)) "
   ]
  },
  {
   "cell_type": "code",
   "execution_count": 11,
   "metadata": {},
   "outputs": [
    {
     "name": "stdout",
     "output_type": "stream",
     "text": [
      "Total vowels are :2\n"
     ]
    }
   ],
   "source": [
    "String = input('Enter the string :')\n",
    "count = 0\n",
    "String = String.lower()\n",
    "for i in String:\n",
    "    if i == 'a' or i == 'e' or i == 'i' or i == 'o' or i == 'u':\n",
    "\n",
    "        count+=1\n",
    "\n",
    "if count == 0:\n",
    "    print('No vowels found')\n",
    "else:\n",
    "    print('Total vowels are :' + str(count))"
   ]
  },
  {
   "cell_type": "code",
   "execution_count": 12,
   "metadata": {},
   "outputs": [
    {
     "name": "stdout",
     "output_type": "stream",
     "text": [
      "1\n",
      "69\n"
     ]
    }
   ],
   "source": [
    "arr = [50, 49, 5, 96, 1, 10, 69]\n",
    "mini = arr[0]\n",
    "maxi = arr[0]\n",
    "\n",
    "for i in range(len(arr)):\n",
    "  if arr[i] < mini: mini = arr[i] \n",
    "  \n",
    "if arr[i] > maxi: maxi = arr[i]\n",
    "\n",
    "print (mini)\n",
    "print (maxi)"
   ]
  },
  {
   "cell_type": "code",
   "execution_count": 13,
   "metadata": {},
   "outputs": [
    {
     "name": "stdout",
     "output_type": "stream",
     "text": [
      "Srivastava Shikhar Is Name My\n"
     ]
    }
   ],
   "source": [
    "sentence = \"My Name Is Shikhar Srivastava\"\n",
    "word_list = sentence.split()\n",
    "reversed_list = word_list[:: -1]\n",
    "reversed_sentence = \" \".join(reversed_list)\n",
    "print(reversed_sentence)"
   ]
  },
  {
   "cell_type": "code",
   "execution_count": null,
   "metadata": {},
   "outputs": [],
   "source": []
  },
  {
   "cell_type": "code",
   "execution_count": null,
   "metadata": {},
   "outputs": [],
   "source": []
  },
  {
   "cell_type": "code",
   "execution_count": null,
   "metadata": {},
   "outputs": [],
   "source": []
  },
  {
   "cell_type": "code",
   "execution_count": null,
   "metadata": {},
   "outputs": [],
   "source": []
  }
 ],
 "metadata": {
  "kernelspec": {
   "display_name": "base",
   "language": "python",
   "name": "python3"
  },
  "language_info": {
   "codemirror_mode": {
    "name": "ipython",
    "version": 3
   },
   "file_extension": ".py",
   "mimetype": "text/x-python",
   "name": "python",
   "nbconvert_exporter": "python",
   "pygments_lexer": "ipython3",
   "version": "3.11.5"
  }
 },
 "nbformat": 4,
 "nbformat_minor": 2
}
