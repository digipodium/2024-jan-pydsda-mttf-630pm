{
 "cells": [
  {
   "cell_type": "code",
   "execution_count": 16,
   "metadata": {},
   "outputs": [],
   "source": [
    "a = 'apple' # single quotes\n",
    "b = \"applejuice\" # double quotes\n",
    "c = '''this is\n",
    "an example''' # triple quotes"
   ]
  },
  {
   "cell_type": "code",
   "execution_count": 17,
   "metadata": {},
   "outputs": [
    {
     "name": "stdout",
     "output_type": "stream",
     "text": [
      "a\n",
      "p\n",
      "e\n",
      "l\n"
     ]
    }
   ],
   "source": [
    "print(a[0])\n",
    "print(a[1])\n",
    "print(a[-1])\n",
    "print(a[-2]) # second last character"
   ]
  },
  {
   "cell_type": "code",
   "execution_count": 18,
   "metadata": {},
   "outputs": [
    {
     "name": "stdout",
     "output_type": "stream",
     "text": [
      "Deenanath\n",
      "Vijay\n",
      "Chauhan\n",
      "Vijay\n",
      "Chauhan\n",
      "Vijay Deenanath Chauhan\n",
      "VjyDeaah\n",
      "VjyDeaahCahn\n",
      "nahuahC htananeeD yajiV\n"
     ]
    }
   ],
   "source": [
    "name = \"Vijay Deenanath Chauhan\"\n",
    "print(name[6:15])\n",
    "print(name[0:5])\n",
    "print(name[-7:23])\n",
    "print(name[:5]) # start to 5 index\n",
    "print(name[-7:]) # -7 index to end\n",
    "print(name[:]) # start to end\n",
    "print(name[:15:2]) # start to 15 index with step 2\n",
    "print(name[::2]) # start to end with step 2\n",
    "print(name[::-1]) # reverse the string"
   ]
  },
  {
   "cell_type": "code",
   "execution_count": 19,
   "metadata": {},
   "outputs": [
    {
     "data": {
      "text/plain": [
       "'Bruce Wayne'"
      ]
     },
     "execution_count": 19,
     "metadata": {},
     "output_type": "execute_result"
    }
   ],
   "source": [
    "fname = \"Bruce\"\n",
    "lname = \"Wayne\"\n",
    "fname + ' ' + lname # concatenation"
   ]
  },
  {
   "cell_type": "code",
   "execution_count": 20,
   "metadata": {},
   "outputs": [
    {
     "data": {
      "text/plain": [
       "'✌✌✌✌✌✌✌✌✌✌'"
      ]
     },
     "execution_count": 20,
     "metadata": {},
     "output_type": "execute_result"
    }
   ],
   "source": [
    "'✌' * 10 "
   ]
  },
  {
   "cell_type": "code",
   "execution_count": 21,
   "metadata": {},
   "outputs": [
    {
     "name": "stdout",
     "output_type": "stream",
     "text": [
      "4\n",
      "-1\n",
      "5\n",
      "The queen went to the jungle\n",
      "The king went to the castle\n",
      "The queen went to the castle\n"
     ]
    }
   ],
   "source": [
    "sentence = 'The king went to the jungle'\n",
    "print(sentence.find('king'))\n",
    "print(sentence.find('queen')) # -1 if not found\n",
    "print(sentence.find('in'))\n",
    "\n",
    "print(sentence.replace('king', 'queen'))\n",
    "print(sentence.replace('jungle', 'castle'))\n",
    "sentence2 = sentence.replace('king','queen').replace('jungle','castle')\n",
    "print(sentence2)"
   ]
  },
  {
   "cell_type": "code",
   "execution_count": 22,
   "metadata": {},
   "outputs": [
    {
     "data": {
      "text/plain": [
       "'Tho king wont to tho junglo'"
      ]
     },
     "execution_count": 22,
     "metadata": {},
     "output_type": "execute_result"
    }
   ],
   "source": [
    "sentence.replace('e', 'o')"
   ]
  },
  {
   "cell_type": "code",
   "execution_count": 23,
   "metadata": {},
   "outputs": [
    {
     "data": {
      "text/plain": [
       "['The', 'king', 'went', 'to', 'the', 'jungle']"
      ]
     },
     "execution_count": 23,
     "metadata": {},
     "output_type": "execute_result"
    }
   ],
   "source": [
    "sentence.split()"
   ]
  },
  {
   "cell_type": "code",
   "execution_count": 24,
   "metadata": {},
   "outputs": [
    {
     "data": {
      "text/plain": [
       "['Apple', 'Banana', 'Orange', 'Mango']"
      ]
     },
     "execution_count": 24,
     "metadata": {},
     "output_type": "execute_result"
    }
   ],
   "source": [
    "s3 = 'Apple,Banana,Orange,Mango'\n",
    "s3.split(',')"
   ]
  },
  {
   "cell_type": "code",
   "execution_count": 25,
   "metadata": {},
   "outputs": [
    {
     "name": "stdout",
     "output_type": "stream",
     "text": [
      "['', 'Twinkle, twinkle, little star,', 'How I wonder what you are!', 'Up above the world so high,', 'Like a diamond in the sky.']\n",
      "['Twinkle,', 'twinkle,', 'little', 'star,', 'How', 'I', 'wonder', 'what', 'you', 'are!', 'Up', 'above', 'the', 'world', 'so', 'high,', 'Like', 'a', 'diamond', 'in', 'the', 'sky.']\n",
      "['\\nTwinkle', ' twinkle', ' little star', '\\nHow I wonder what you are!\\nUp above the world so high', '\\nLike a diamond in the sky.\\n']\n"
     ]
    }
   ],
   "source": [
    "poem = '''\n",
    "Twinkle, twinkle, little star,\n",
    "How I wonder what you are!\n",
    "Up above the world so high,\n",
    "Like a diamond in the sky.\n",
    "'''\n",
    "\n",
    "print(poem.splitlines()) # better than split('\\n')\n",
    "print(poem.split())\n",
    "print(poem.split(','))"
   ]
  },
  {
   "cell_type": "code",
   "execution_count": 26,
   "metadata": {},
   "outputs": [
    {
     "name": "stdout",
     "output_type": "stream",
     "text": [
      "C: home user documents file.txt\n",
      "C:/home/user/documents/file.txt\n",
      "C:,home,user,documents,file.txt\n",
      "C:homeuserdocumentsfile.txt\n",
      "C:😖home😖user😖documents😖file.txt\n"
     ]
    }
   ],
   "source": [
    "path = ['C:','home', 'user', 'documents', 'file.txt']\n",
    "\n",
    "print(\" \".join(path))\n",
    "print(\"/\".join(path))\n",
    "print(\",\".join(path))\n",
    "print(\"\".join(path))\n",
    "print(\"😖\".join(path))"
   ]
  },
  {
   "cell_type": "code",
   "execution_count": null,
   "metadata": {},
   "outputs": [],
   "source": []
  },
  {
   "cell_type": "code",
   "execution_count": null,
   "metadata": {},
   "outputs": [],
   "source": []
  },
  {
   "cell_type": "code",
   "execution_count": null,
   "metadata": {},
   "outputs": [],
   "source": []
  }
 ],
 "metadata": {
  "kernelspec": {
   "display_name": "base",
   "language": "python",
   "name": "python3"
  },
  "language_info": {
   "codemirror_mode": {
    "name": "ipython",
    "version": 3
   },
   "file_extension": ".py",
   "mimetype": "text/x-python",
   "name": "python",
   "nbconvert_exporter": "python",
   "pygments_lexer": "ipython3",
   "version": "3.11.5"
  }
 },
 "nbformat": 4,
 "nbformat_minor": 2
}
