{
 "cells": [
  {
   "cell_type": "code",
   "execution_count": 1,
   "metadata": {},
   "outputs": [],
   "source": [
    "a = 'apple' # single quotes\n",
    "b = \"applejuice\" # double quotes\n",
    "c = '''this is\n",
    "an example''' # triple quotes"
   ]
  },
  {
   "cell_type": "code",
   "execution_count": 2,
   "metadata": {},
   "outputs": [
    {
     "name": "stdout",
     "output_type": "stream",
     "text": [
      "a\n",
      "p\n",
      "e\n",
      "l\n"
     ]
    }
   ],
   "source": [
    "print(a[0])\n",
    "print(a[1])\n",
    "print(a[-1])\n",
    "print(a[-2]) # second last character"
   ]
  },
  {
   "cell_type": "code",
   "execution_count": 3,
   "metadata": {},
   "outputs": [
    {
     "name": "stdout",
     "output_type": "stream",
     "text": [
      "Deenanath\n",
      "Vijay\n",
      "Chauhan\n",
      "Vijay\n",
      "Chauhan\n",
      "Vijay Deenanath Chauhan\n",
      "VjyDeaah\n",
      "VjyDeaahCahn\n",
      "nahuahC htananeeD yajiV\n"
     ]
    }
   ],
   "source": [
    "name = \"Vijay Deenanath Chauhan\"\n",
    "print(name[6:15])\n",
    "print(name[0:5])\n",
    "print(name[-7:23])\n",
    "print(name[:5]) # start to 5 index\n",
    "print(name[-7:]) # -7 index to end\n",
    "print(name[:]) # start to end\n",
    "print(name[:15:2]) # start to 15 index with step 2\n",
    "print(name[::2]) # start to end with step 2\n",
    "print(name[::-1]) # reverse the string"
   ]
  },
  {
   "cell_type": "code",
   "execution_count": 4,
   "metadata": {},
   "outputs": [
    {
     "data": {
      "text/plain": [
       "'Bruce Wayne'"
      ]
     },
     "execution_count": 4,
     "metadata": {},
     "output_type": "execute_result"
    }
   ],
   "source": [
    "fname = \"Bruce\"\n",
    "lname = \"Wayne\"\n",
    "fname + ' ' + lname # concatenation"
   ]
  },
  {
   "cell_type": "code",
   "execution_count": 5,
   "metadata": {},
   "outputs": [
    {
     "data": {
      "text/plain": [
       "'✌✌✌✌✌✌✌✌✌✌'"
      ]
     },
     "execution_count": 5,
     "metadata": {},
     "output_type": "execute_result"
    }
   ],
   "source": [
    "'✌' * 10 "
   ]
  },
  {
   "cell_type": "code",
   "execution_count": 6,
   "metadata": {},
   "outputs": [
    {
     "name": "stdout",
     "output_type": "stream",
     "text": [
      "4\n",
      "-1\n",
      "5\n",
      "The queen went to the jungle\n",
      "The king went to the castle\n",
      "The queen went to the castle\n"
     ]
    }
   ],
   "source": [
    "sentence = 'The king went to the jungle'\n",
    "print(sentence.find('king'))\n",
    "print(sentence.find('queen')) # -1 if not found\n",
    "print(sentence.find('in'))\n",
    "\n",
    "print(sentence.replace('king', 'queen'))\n",
    "print(sentence.replace('jungle', 'castle'))\n",
    "sentence2 = sentence.replace('king','queen').replace('jungle','castle')\n",
    "print(sentence2)"
   ]
  },
  {
   "cell_type": "code",
   "execution_count": 7,
   "metadata": {},
   "outputs": [
    {
     "data": {
      "text/plain": [
       "'Tho king wont to tho junglo'"
      ]
     },
     "execution_count": 7,
     "metadata": {},
     "output_type": "execute_result"
    }
   ],
   "source": [
    "sentence.replace('e', 'o')"
   ]
  },
  {
   "cell_type": "code",
   "execution_count": 8,
   "metadata": {},
   "outputs": [
    {
     "data": {
      "text/plain": [
       "['The', 'king', 'went', 'to', 'the', 'jungle']"
      ]
     },
     "execution_count": 8,
     "metadata": {},
     "output_type": "execute_result"
    }
   ],
   "source": [
    "sentence.split()"
   ]
  },
  {
   "cell_type": "code",
   "execution_count": 9,
   "metadata": {},
   "outputs": [
    {
     "data": {
      "text/plain": [
       "['Apple', 'Banana', 'Orange', 'Mango']"
      ]
     },
     "execution_count": 9,
     "metadata": {},
     "output_type": "execute_result"
    }
   ],
   "source": [
    "s3 = 'Apple,Banana,Orange,Mango'\n",
    "s3.split(',')"
   ]
  },
  {
   "cell_type": "code",
   "execution_count": 10,
   "metadata": {},
   "outputs": [
    {
     "name": "stdout",
     "output_type": "stream",
     "text": [
      "['', 'Twinkle, twinkle, little star,', 'How I wonder what you are!', 'Up above the world so high,', 'Like a diamond in the sky.']\n",
      "['Twinkle,', 'twinkle,', 'little', 'star,', 'How', 'I', 'wonder', 'what', 'you', 'are!', 'Up', 'above', 'the', 'world', 'so', 'high,', 'Like', 'a', 'diamond', 'in', 'the', 'sky.']\n",
      "['\\nTwinkle', ' twinkle', ' little star', '\\nHow I wonder what you are!\\nUp above the world so high', '\\nLike a diamond in the sky.\\n']\n"
     ]
    }
   ],
   "source": [
    "poem = '''\n",
    "Twinkle, twinkle, little star,\n",
    "How I wonder what you are!\n",
    "Up above the world so high,\n",
    "Like a diamond in the sky.\n",
    "'''\n",
    "\n",
    "print(poem.splitlines()) # better than split('\\n')\n",
    "print(poem.split())\n",
    "print(poem.split(','))"
   ]
  },
  {
   "cell_type": "code",
   "execution_count": 11,
   "metadata": {},
   "outputs": [
    {
     "name": "stdout",
     "output_type": "stream",
     "text": [
      "C: home user documents file.txt\n",
      "C:/home/user/documents/file.txt\n",
      "C:,home,user,documents,file.txt\n",
      "C:homeuserdocumentsfile.txt\n",
      "C:😖home😖user😖documents😖file.txt\n"
     ]
    }
   ],
   "source": [
    "path = ['C:','home', 'user', 'documents', 'file.txt']\n",
    "\n",
    "print(\" \".join(path))\n",
    "print(\"/\".join(path))\n",
    "print(\",\".join(path))\n",
    "print(\"\".join(path))\n",
    "print(\"😖\".join(path))"
   ]
  },
  {
   "cell_type": "code",
   "execution_count": 17,
   "metadata": {},
   "outputs": [
    {
     "data": {
      "text/plain": [
       "1"
      ]
     },
     "execution_count": 17,
     "metadata": {},
     "output_type": "execute_result"
    }
   ],
   "source": [
    "story = 'Once there was a king. He was very powerful. He had a beautiful queen.'\n",
    "story.count('queen')"
   ]
  },
  {
   "cell_type": "code",
   "execution_count": 22,
   "metadata": {},
   "outputs": [
    {
     "name": "stdout",
     "output_type": "stream",
     "text": [
      "['06.06.23 (1).pdf', '06.06.23.pdf', '3d design mumbai (1).zip', '3d design mumbai.zip', '4th july post.zip', '@happylivein (Instagram Post (Square)) (Facebook Post (Landscape)).zip', '@happylivein (Instagram Post (Square)).zip', '@happylivein.png', '@happylivein.zip', 'Bathroom blog', 'bio chap 1 notes.pdf', 'bio imp exam ques.pdf', 'Blog 9', 'Blog Interior 23 may', 'Blog10', 'Blog11', 'Blog12', 'Blog13', 'Blog14', 'Blog15', 'Blog16', 'Blog17', 'Blog18', 'Blog19', 'Blog5', 'Blog6', 'Blog7', 'Blog8', 'Calling Data (04_11_2023) - Shikhar.pdf', 'Calling Data (06_11_2023) - Shikhar.pdf', 'Calling Data (07_11_2023) - Shikhar.pdf', 'Calling Data (08_11_2023) - Shikhar.pdf', 'Chapter 1.pdf', 'ChromeSetup.exe', 'desktop.ini', 'Dining Blog', 'Display.pdf', 'DOC-20230725-WA0014_.pdf', 'DOC-20230725-WA0015_.pdf', 'Document from Shikhar.pdf', 'download (2) (1).pdf', 'download (2).pdf', 'download.pdf', 'examepdf 14-05-2023.pdf', 'Facebook Post', 'Fb', 'GD_31655059190620231933075 (1).pdf', 'GD_31655059190620231933075.pdf', 'Git-2.43.0-64-bit.exe', 'GitHubDesktopSetup-x64.exe', 'Happy Livein.in.png', 'HAPPYLIVEIN.png', 'Images for post', 'IN303028XXXXXX82_405303.pdf', 'Insta', 'Insta Post', 'kebo102.pdf', 'kebo103.pdf', 'kebo104.pdf', 'kebo105.pdf', 'kebo106.pdf', 'kebo107.pdf', 'kebo1dd.zip', 'LEADS AUG.xlsx', 'master-bedroom-design-ideas.jpg', 'Mens Salon Interior Design.zip', 'Microsoft-Office-Professional-2007 (1).exe', 'Microsoft-Office-Professional-2007.exe', 'Miniconda3-latest-Windows-x86_64.exe', 'Modern Bathroom Design 24 may (1).zip', 'Modern Bathroom Design 24 may.zip', 'Neutral Aesthetic Living Room Wall Art Poster Frame Mockup Instagram Post (1).png', 'Neutral Aesthetic Living Room Wall Art Poster Frame Mockup Instagram Post (2).png', 'Neutral Aesthetic Living Room Wall Art Poster Frame Mockup Instagram Post.mp4', 'Neutral Aesthetic Living Room Wall Art Poster Frame Mockup Instagram Post.png', 'New Doc 11-22-2022 17.07.pdf', 'no.pdf', 'Post 01 Aug.zip', 'post 01 sep.zip', 'Post 02 june.zip', 'Post 02 sep.zip', 'Post 03 june.zip', 'Post 04 june.zip', 'Post 04 nov.zip', 'post 04 Oct.zip', 'Post 04 sep.zip', 'Post 05 aug.zip', 'Post 05 july.zip', 'post 05 june.zip', 'Post 05 Sep.zip', 'Post 06 july.zip', 'Post 06 june.zip', 'Post 06 oct.zip', 'Post 07 Aug.zip', 'post 07 june.zip', 'Post 08 july.zip', 'Post 08 june.zip', 'Post 08 Sep.zip', 'Post 09 june.zip', 'Post 10 Aug.zip', 'Post 10 june.zip', 'Post 11 july.zip', 'Post 11 Sep.zip', 'post 12 july.zip', 'Post 12 oct.zip', 'Post 12 sep.zip', 'Post 13 july.zip', 'post 13 june.png', 'post 13 june.zip', 'Post 13 oct.zip', 'Post 13 Sep.zip', 'Post 14 Aug.zip', 'Post 14 july.zip', 'post 14 june.zip', 'Post 15 Aug.zip', 'Post 15 july (1).zip', 'Post 15 july.zip', 'Post 15 Sep.zip', 'Post 16 june.zip', 'Post 16 may (1).zip', 'Post 16 may.zip', 'Post 16 Sep.zip', 'Post 17 july.zip', 'Post 17 june.zip', 'Post 18 july.zip', 'Post 18 Sep.zip', 'Post 19 june (1).png', 'Post 19 june.png', 'Post 19 june.zip', 'Post 20 july.zip', 'Post 20 June.zip', 'Post 21 July (1).zip', 'Post 21 July.zip', 'Post 21 June (1).zip', 'Post 21 june.zip', 'Post 21 Oct.zip', 'Post 22 AUG.zip', 'Post 22 june.zip', 'post 22 may photos', 'post 22 may.zip', 'Post 23 Aug.zip', 'Post 23 june.zip', 'post 23 may.zip', 'Post 24 july (1).zip', 'Post 24 july.zip', 'Post 25 july.zip', 'post 25 may.zip', 'Post 26 Aug.zip', 'Post 26 june.zip', 'Post 27 july.zip', 'Post 27 june.zip', 'Post 27 oct.zip', 'Post 28 june.zip', 'Post 28,29 july.zip', 'Post 30 May.zip', 'Post 30 Oct.mp4', 'post 7 july.zip', 'Post 8 Aug.zip', 'Post 9 Aug (Updated).zip', 'Post 9 Aug.zip', 'post2 25 may.zip', 'r-architecture-IZwmKiyOdMI-unsplash.jpg', 'r-architecture-P_0tnQ8hb70-unsplash.jpg', 'Resume Sarita Srivastava.pdf', 'Resume Sarita Srivastava.rtf', 'Resume_Sarita_Srivastava[1][1].rtf', 'SecureExamBrowserInstaller_1.4.7.msi', 'sidekix-media-7jlVQPX8PLE-unsplash.jpg', 'spacejoy-nEtpvJjnPVo-unsplash.jpg', 'spacejoy-RUvW1KGD9a4-unsplash.jpg', 'spacejoy-vOa-PSimwg4-unsplash.jpg', 'spacejoy-xkJ2_THgKmk-unsplash.jpg', 'spacejoy-XM-miHibz64-unsplash.jpg', 'Story 01 june.zip', 'Story 13,14,15 july.zip', 'Story 17 july.png', 'Story 20July.png', 'Story 22 may.png', 'Story 24 may.png', 'Untitled document.txt', 'visualsofdana-T5pL6ciEn-I-unsplash.jpg', 'vlc-3.0.18-win64 (5).exe', 'VSCodeUserSetup-x64-1.86.0.exe', 'We Are The Home Makers (1).zip', 'We Are The Home Makers.png', 'We Are The Home Makers.zip', 'WEB_IT_CERT.pdf', 'WhatsApp Image 2023-12-07 at 5.51.54 PM.jpeg', 'WhatsApp Image 2023-12-07 at 5.51.55 PM (1).jpeg', 'WhatsApp Image 2023-12-07 at 5.51.55 PM (2).jpeg', 'WhatsApp Image 2023-12-07 at 5.51.55 PM.jpeg', 'WhatsApp Image 2023-12-07 at 5.51.56 PM (1).jpeg', 'WhatsApp Image 2023-12-07 at 5.51.56 PM (2).jpeg', 'WhatsApp Image 2023-12-07 at 5.51.56 PM.jpeg', 'WhatsApp Image 2023-12-07 at 5.51.57 PM (1).jpeg', 'WhatsApp Image 2023-12-07 at 5.51.57 PM.jpeg', 'win-g2010-1_2-n_mcd', 'win-g2010-1_2-n_mcd (1).exe', 'Women’s Beauty Parlou.zip']\n"
     ]
    }
   ],
   "source": [
    "import os\n",
    "\n",
    "content = os.listdir('c:/users/sshik/Downloads')\n",
    "print(content)"
   ]
  },
  {
   "cell_type": "code",
   "execution_count": 34,
   "metadata": {},
   "outputs": [
    {
     "name": "stdout",
     "output_type": "stream",
     "text": [
      "@happylivein.png\n",
      "ChromeSetup.exe\n",
      "Git-2.43.0-64-bit.exe\n",
      "GitHubDesktopSetup-x64.exe\n",
      "Happy Livein.in.png\n",
      "HAPPYLIVEIN.png\n",
      "Microsoft-Office-Professional-2007 (1).exe\n",
      "Microsoft-Office-Professional-2007.exe\n",
      "Miniconda3-latest-Windows-x86_64.exe\n",
      "Neutral Aesthetic Living Room Wall Art Poster Frame Mockup Instagram Post (1).png\n",
      "Neutral Aesthetic Living Room Wall Art Poster Frame Mockup Instagram Post (2).png\n",
      "Neutral Aesthetic Living Room Wall Art Poster Frame Mockup Instagram Post.png\n",
      "post 13 june.png\n",
      "Post 19 june (1).png\n",
      "Post 19 june.png\n",
      "Story 17 july.png\n",
      "Story 20July.png\n",
      "Story 22 may.png\n",
      "Story 24 may.png\n",
      "vlc-3.0.18-win64 (5).exe\n",
      "VSCodeUserSetup-x64-1.86.0.exe\n",
      "We Are The Home Makers.png\n",
      "win-g2010-1_2-n_mcd (1).exe\n"
     ]
    }
   ],
   "source": [
    "for item in content:\n",
    "    if item.endswith('.exe') or item.endswith('.png'):\n",
    "        print(item)"
   ]
  },
  {
   "cell_type": "code",
   "execution_count": 33,
   "metadata": {},
   "outputs": [
    {
     "name": "stdout",
     "output_type": "stream",
     "text": [
      "Happy Livein.in.png\n",
      "HAPPYLIVEIN.png\n"
     ]
    }
   ],
   "source": [
    "for item in content:\n",
    "    if item.startswith('H'):\n",
    "        print(item)\n"
   ]
  },
  {
   "cell_type": "code",
   "execution_count": null,
   "metadata": {},
   "outputs": [],
   "source": []
  },
  {
   "cell_type": "code",
   "execution_count": null,
   "metadata": {},
   "outputs": [],
   "source": []
  }
 ],
 "metadata": {
  "kernelspec": {
   "display_name": "base",
   "language": "python",
   "name": "python3"
  },
  "language_info": {
   "codemirror_mode": {
    "name": "ipython",
    "version": 3
   },
   "file_extension": ".py",
   "mimetype": "text/x-python",
   "name": "python",
   "nbconvert_exporter": "python",
   "pygments_lexer": "ipython3",
   "version": "3.11.5"
  }
 },
 "nbformat": 4,
 "nbformat_minor": 2
}
