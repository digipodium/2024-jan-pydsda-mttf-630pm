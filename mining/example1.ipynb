{
 "cells": [
  {
   "cell_type": "code",
   "execution_count": null,
   "metadata": {},
   "outputs": [],
   "source": [
    "from dputils.scrape import Scraper, Tag"
   ]
  },
  {
   "cell_type": "code",
   "execution_count": null,
   "metadata": {},
   "outputs": [],
   "source": [
    "url = \"https://pypi.org/\"\n",
    "sc = Scraper(url)\n",
    "content = sc.get_tag(Tag(\"body\"))"
   ]
  },
  {
   "cell_type": "code",
   "execution_count": null,
   "metadata": {},
   "outputs": [],
   "source": [
    "print(content.get('body'))"
   ]
  },
  {
   "cell_type": "markdown",
   "metadata": {},
   "source": [
    "flipcart example"
   ]
  },
  {
   "cell_type": "code",
   "execution_count": null,
   "metadata": {},
   "outputs": [],
   "source": [
    "url = 'https://www.flipkart.com/cameras/dslr-mirrorless/pr?sid=jek%2Cp31%2Ctrv'\n",
    "flipkart = Scraper(url)"
   ]
  },
  {
   "cell_type": "code",
   "execution_count": null,
   "metadata": {},
   "outputs": [],
   "source": [
    "t = Tag(cls='_1YokD2 _3Mn1Gg') # target\n",
    "items = Tag(cls='_2kHMtA')     # repeating items\n",
    "# tag data to be extract\n",
    "n = Tag(cls='_4rR01T')\n",
    "p = Tag(cls='_30jeq3 _1_WHN1')\n",
    "ar = Tag(cls='_3LWZlK')\n",
    "rc = Tag('span', cls='_2_R_DZ')\n",
    "\n",
    "out = flipkart.get_repeating_page_data(\n",
    "    target = t,\n",
    "    items = items,\n",
    "    name = n,\n",
    "    price = p,\n",
    "    avg_rating = ar,\n",
    "    rating_count = rc\n",
    ")"
   ]
  },
  {
   "cell_type": "code",
   "execution_count": null,
   "metadata": {},
   "outputs": [],
   "source": [
    "import pandas as pd\n",
    "pd.DataFrame(out)"
   ]
  },
  {
   "cell_type": "code",
   "execution_count": null,
   "metadata": {},
   "outputs": [],
   "source": []
  }
 ],
 "metadata": {
  "kernelspec": {
   "display_name": "base",
   "language": "python",
   "name": "python3"
  },
  "language_info": {
   "codemirror_mode": {
    "name": "ipython",
    "version": 3
   },
   "file_extension": ".py",
   "mimetype": "text/x-python",
   "name": "python",
   "nbconvert_exporter": "python",
   "pygments_lexer": "ipython3",
   "version": "3.11.8"
  }
 },
 "nbformat": 4,
 "nbformat_minor": 2
}
